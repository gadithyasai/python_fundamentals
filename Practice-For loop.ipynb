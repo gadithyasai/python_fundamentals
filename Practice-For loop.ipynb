{
 "cells": [
  {
   "cell_type": "code",
   "execution_count": 2,
   "metadata": {
    "scrolled": true
   },
   "outputs": [
    {
     "name": "stdout",
     "output_type": "stream",
     "text": [
      "The Zen of Python, by Tim Peters\n",
      "\n",
      "Beautiful is better than ugly.\n",
      "Explicit is better than implicit.\n",
      "Simple is better than complex.\n",
      "Complex is better than complicated.\n",
      "Flat is better than nested.\n",
      "Sparse is better than dense.\n",
      "Readability counts.\n",
      "Special cases aren't special enough to break the rules.\n",
      "Although practicality beats purity.\n",
      "Errors should never pass silently.\n",
      "Unless explicitly silenced.\n",
      "In the face of ambiguity, refuse the temptation to guess.\n",
      "There should be one-- and preferably only one --obvious way to do it.\n",
      "Although that way may not be obvious at first unless you're Dutch.\n",
      "Now is better than never.\n",
      "Although never is often better than *right* now.\n",
      "If the implementation is hard to explain, it's a bad idea.\n",
      "If the implementation is easy to explain, it may be a good idea.\n",
      "Namespaces are one honking great idea -- let's do more of those!\n"
     ]
    }
   ],
   "source": [
    "import this"
   ]
  },
  {
   "cell_type": "code",
   "execution_count": 3,
   "metadata": {},
   "outputs": [],
   "source": [
    "stud=['adithya','sai','faiyaz','divya','kartik','cgaran']"
   ]
  },
  {
   "cell_type": "code",
   "execution_count": 6,
   "metadata": {},
   "outputs": [
    {
     "name": "stdout",
     "output_type": "stream",
     "text": [
      "Adithya\n",
      "Sai\n",
      "Faiyaz\n",
      "Divya\n",
      "Kartik\n",
      "Cgaran\n"
     ]
    }
   ],
   "source": [
    "for i in stud:\n",
    "    print(i.title())#.title() prints the starting char with capital letter "
   ]
  },
  {
   "cell_type": "code",
   "execution_count": 8,
   "metadata": {},
   "outputs": [
    {
     "name": "stdout",
     "output_type": "stream",
     "text": [
      "Adithya! welcome to Python.\n",
      "Sai! welcome to Python.\n",
      "Faiyaz! welcome to Python.\n",
      "Divya! welcome to Python.\n",
      "Kartik! welcome to Python.\n",
      "Cgaran! welcome to Python.\n"
     ]
    }
   ],
   "source": [
    "for i in stud:#'i' is temporary variable. can use any name in universe\n",
    "    print(f\"{i.title()}! welcome to Python.\")#single tab is called 'intendation' and in mandatory"
   ]
  },
  {
   "cell_type": "code",
   "execution_count": 9,
   "metadata": {},
   "outputs": [
    {
     "name": "stdout",
     "output_type": "stream",
     "text": [
      "\n",
      "Adithya! welcome to Python.\n",
      "\n",
      "Sai! welcome to Python.\n",
      "\n",
      "Faiyaz! welcome to Python.\n",
      "\n",
      "Divya! welcome to Python.\n",
      "\n",
      "Kartik! welcome to Python.\n",
      "\n",
      "Cgaran! welcome to Python.\n"
     ]
    }
   ],
   "source": [
    "#further enhancement of for loop\n",
    "for i in stud:\n",
    "    print(f\"\\n{i.title()}! welcome to Python.\")#'\\n' will print new line after every iteration."
   ]
  },
  {
   "cell_type": "code",
   "execution_count": 10,
   "metadata": {},
   "outputs": [
    {
     "name": "stdout",
     "output_type": "stream",
     "text": [
      "1\n",
      "2\n",
      "3\n",
      "4\n",
      "5\n",
      "6\n",
      "7\n",
      "8\n",
      "9\n",
      "10\n"
     ]
    }
   ],
   "source": [
    "for i in range(1,11):#range command excludes the last value\n",
    "    print(i)"
   ]
  },
  {
   "cell_type": "code",
   "execution_count": 13,
   "metadata": {},
   "outputs": [
    {
     "name": "stdout",
     "output_type": "stream",
     "text": [
      "[1, 2, 3, 4, 5, 6, 7, 8, 9, 10]\n"
     ]
    }
   ],
   "source": [
    "#creating a list with range function\n",
    "num=list(range(1,11))\n",
    "print(num)"
   ]
  },
  {
   "cell_type": "code",
   "execution_count": 15,
   "metadata": {},
   "outputs": [
    {
     "name": "stdout",
     "output_type": "stream",
     "text": [
      "[2, 4, 6, 8, 10, 12, 14, 16, 18]\n"
     ]
    }
   ],
   "source": [
    "#creating the list of Even numbers\n",
    "Even=list(range(2,20,2))#range(start,end,step-count)\n",
    "print(Even)"
   ]
  },
  {
   "cell_type": "code",
   "execution_count": 16,
   "metadata": {},
   "outputs": [
    {
     "name": "stdout",
     "output_type": "stream",
     "text": [
      "[3, 5, 7, 9, 11, 13, 15, 17, 19]\n"
     ]
    }
   ],
   "source": [
    "#creating the list of Odd numbers\n",
    "Odd=list(range(3,20,2))#range(start,end,step-count)\n",
    "print(Odd)"
   ]
  },
  {
   "cell_type": "raw",
   "metadata": {},
   "source": []
  },
  {
   "cell_type": "code",
   "execution_count": 17,
   "metadata": {},
   "outputs": [
    {
     "name": "stdout",
     "output_type": "stream",
     "text": [
      "Please enter your message:Hello Everyone.\n",
      "Hello Everyone.\n"
     ]
    }
   ],
   "source": [
    "#Accepting User given input\n",
    "message=input('Please enter your message:')#by default input will consider as string data type\n",
    "print(message)"
   ]
  },
  {
   "cell_type": "code",
   "execution_count": 20,
   "metadata": {},
   "outputs": [
    {
     "name": "stdout",
     "output_type": "stream",
     "text": [
      "Enter your name:Adithya\n",
      "Hello! Adithya welcome to Python.\n",
      " AdithyaAdithyaAdithyaAdithyaAdithyaAdithyaAdithya\n"
     ]
    }
   ],
   "source": [
    "#Enchancement of code:\n",
    "name=input('Enter your name:')\n",
    "print(f'Hello! {name.title()} welcome to Python.\\n {name*7}')"
   ]
  },
  {
   "cell_type": "code",
   "execution_count": null,
   "metadata": {},
   "outputs": [],
   "source": []
  },
  {
   "cell_type": "code",
   "execution_count": 22,
   "metadata": {},
   "outputs": [
    {
     "name": "stdout",
     "output_type": "stream",
     "text": [
      "{'name': 'Daku', 'color': 'red', 'points': 10, 'level': 2}\n"
     ]
    }
   ],
   "source": [
    "#for loop in dictionaries:\n",
    "alien={'name':'Daku','color':'red','points':10,'level':2}\n",
    "\n",
    "print(alien)"
   ]
  },
  {
   "cell_type": "code",
   "execution_count": 25,
   "metadata": {},
   "outputs": [
    {
     "name": "stdout",
     "output_type": "stream",
     "text": [
      "name\n",
      "Daku\n",
      "color\n",
      "red\n",
      "points\n",
      "10\n",
      "level\n",
      "2\n"
     ]
    }
   ],
   "source": [
    "for i,j in alien.items():\n",
    "    print(i)\n",
    "    print(j)"
   ]
  },
  {
   "cell_type": "code",
   "execution_count": 27,
   "metadata": {},
   "outputs": [
    {
     "name": "stdout",
     "output_type": "stream",
     "text": [
      "Keys-1: name\n",
      "Keys-2: color\n",
      "Keys-3: points\n",
      "Keys-4: level\n"
     ]
    }
   ],
   "source": [
    "#Req-1: Required only Keys:\n",
    "j=1\n",
    "for i in alien.keys():\n",
    "    print(f'Keys-{j}: {i}')\n",
    "    j=j+1"
   ]
  },
  {
   "cell_type": "code",
   "execution_count": 29,
   "metadata": {},
   "outputs": [
    {
     "name": "stdout",
     "output_type": "stream",
     "text": [
      "Value-1: Daku\n",
      "Value-2: red\n",
      "Value-3: 10\n",
      "Value-4: 2\n"
     ]
    }
   ],
   "source": [
    "#Req-2: Required only Keys:\n",
    "j=1\n",
    "for i in alien.values():\n",
    "    print(f'Value-{j}: {i}')\n",
    "    j=j+1"
   ]
  },
  {
   "cell_type": "code",
   "execution_count": null,
   "metadata": {},
   "outputs": [],
   "source": []
  },
  {
   "cell_type": "code",
   "execution_count": null,
   "metadata": {},
   "outputs": [],
   "source": []
  },
  {
   "cell_type": "code",
   "execution_count": null,
   "metadata": {},
   "outputs": [],
   "source": []
  },
  {
   "cell_type": "code",
   "execution_count": null,
   "metadata": {},
   "outputs": [],
   "source": []
  },
  {
   "cell_type": "code",
   "execution_count": null,
   "metadata": {},
   "outputs": [],
   "source": []
  }
 ],
 "metadata": {
  "kernelspec": {
   "display_name": "Python 3",
   "language": "python",
   "name": "python3"
  },
  "language_info": {
   "codemirror_mode": {
    "name": "ipython",
    "version": 3
   },
   "file_extension": ".py",
   "mimetype": "text/x-python",
   "name": "python",
   "nbconvert_exporter": "python",
   "pygments_lexer": "ipython3",
   "version": "3.7.3"
  }
 },
 "nbformat": 4,
 "nbformat_minor": 2
}
