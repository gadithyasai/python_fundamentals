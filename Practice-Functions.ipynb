{
 "cells": [
  {
   "cell_type": "code",
   "execution_count": 18,
   "metadata": {},
   "outputs": [],
   "source": [
    "def greet_user(): #Function defination\n",
    "    print('Hello!')"
   ]
  },
  {
   "cell_type": "code",
   "execution_count": 19,
   "metadata": {},
   "outputs": [
    {
     "name": "stdout",
     "output_type": "stream",
     "text": [
      "Hello!\n"
     ]
    }
   ],
   "source": [
    "greet_user()#Function call"
   ]
  },
  {
   "cell_type": "code",
   "execution_count": null,
   "metadata": {},
   "outputs": [],
   "source": []
  },
  {
   "cell_type": "code",
   "execution_count": null,
   "metadata": {},
   "outputs": [],
   "source": [
    "#Type of arguments:\n",
    "1.Positional arguments\n",
    "2.Keywaord arguments\n",
    "3.Default arguments"
   ]
  },
  {
   "cell_type": "code",
   "execution_count": 15,
   "metadata": {},
   "outputs": [],
   "source": [
    "#1.Positional Arguments:\n",
    "\n",
    "def greet_user(user_name):#user_name is called arguments\n",
    "    print(f'Hello! {user_name.title()}.\\nWelcome to Python.')"
   ]
  },
  {
   "cell_type": "code",
   "execution_count": 16,
   "metadata": {},
   "outputs": [
    {
     "name": "stdout",
     "output_type": "stream",
     "text": [
      "Hello! Adithya.\n",
      "Welcome to Python.\n"
     ]
    }
   ],
   "source": [
    "greet_user('adithya')#adithya here is a parameter"
   ]
  },
  {
   "cell_type": "code",
   "execution_count": 13,
   "metadata": {},
   "outputs": [
    {
     "ename": "TypeError",
     "evalue": "greet_user() missing 1 required positional argument: 'user_name'",
     "output_type": "error",
     "traceback": [
      "\u001b[1;31m---------------------------------------------------------------------------\u001b[0m",
      "\u001b[1;31mTypeError\u001b[0m                                 Traceback (most recent call last)",
      "\u001b[1;32m<ipython-input-13-dbfe9269c9e1>\u001b[0m in \u001b[0;36m<module>\u001b[1;34m\u001b[0m\n\u001b[1;32m----> 1\u001b[1;33m \u001b[0mgreet_user\u001b[0m\u001b[1;33m(\u001b[0m\u001b[1;33m)\u001b[0m\u001b[1;33m\u001b[0m\u001b[1;33m\u001b[0m\u001b[0m\n\u001b[0m",
      "\u001b[1;31mTypeError\u001b[0m: greet_user() missing 1 required positional argument: 'user_name'"
     ]
    }
   ],
   "source": [
    "greet_user()#when arguments is defined and parameter is not declared when call, type error will occur."
   ]
  },
  {
   "cell_type": "code",
   "execution_count": null,
   "metadata": {},
   "outputs": [],
   "source": []
  },
  {
   "cell_type": "code",
   "execution_count": 24,
   "metadata": {},
   "outputs": [],
   "source": [
    "#2.Keyword Arguments:\n",
    "\n",
    "def pet(animal_type,pet_name):\n",
    "    print(f'I have an {animal_type.title()}.\\nMy {animal_type.title()} name is {pet_name.title()}')"
   ]
  },
  {
   "cell_type": "code",
   "execution_count": 25,
   "metadata": {},
   "outputs": [
    {
     "name": "stdout",
     "output_type": "stream",
     "text": [
      "I have an Dog.\n",
      "My Dog name is Rex\n"
     ]
    }
   ],
   "source": [
    "pet('dog','rex')"
   ]
  },
  {
   "cell_type": "code",
   "execution_count": 26,
   "metadata": {},
   "outputs": [
    {
     "ename": "TypeError",
     "evalue": "pet() missing 1 required positional argument: 'pet_name'",
     "output_type": "error",
     "traceback": [
      "\u001b[1;31m---------------------------------------------------------------------------\u001b[0m",
      "\u001b[1;31mTypeError\u001b[0m                                 Traceback (most recent call last)",
      "\u001b[1;32m<ipython-input-26-a6feb1d0dbf9>\u001b[0m in \u001b[0;36m<module>\u001b[1;34m\u001b[0m\n\u001b[1;32m----> 1\u001b[1;33m \u001b[0mpet\u001b[0m\u001b[1;33m(\u001b[0m\u001b[1;34m'rex'\u001b[0m\u001b[1;33m)\u001b[0m\u001b[1;33m\u001b[0m\u001b[1;33m\u001b[0m\u001b[0m\n\u001b[0m",
      "\u001b[1;31mTypeError\u001b[0m: pet() missing 1 required positional argument: 'pet_name'"
     ]
    }
   ],
   "source": [
    "pet('rex')"
   ]
  },
  {
   "cell_type": "code",
   "execution_count": 27,
   "metadata": {},
   "outputs": [
    {
     "name": "stdout",
     "output_type": "stream",
     "text": [
      "I have an Cat.\n",
      "My Cat name is Ludo\n"
     ]
    }
   ],
   "source": [
    "pet('cat','Ludo')"
   ]
  },
  {
   "cell_type": "code",
   "execution_count": null,
   "metadata": {},
   "outputs": [],
   "source": []
  },
  {
   "cell_type": "code",
   "execution_count": null,
   "metadata": {},
   "outputs": [],
   "source": [
    "#3. Default arguments:"
   ]
  },
  {
   "cell_type": "code",
   "execution_count": 30,
   "metadata": {},
   "outputs": [],
   "source": [
    "def pet1(pet_name,animal_type='cat'):\n",
    "    print(f'I have an {animal_type.title()}.\\nMy {animal_type.title()} name is {pet_name.title()}')"
   ]
  },
  {
   "cell_type": "code",
   "execution_count": 31,
   "metadata": {},
   "outputs": [
    {
     "name": "stdout",
     "output_type": "stream",
     "text": [
      "I have an Cat.\n",
      "My Cat name is Rambo\n"
     ]
    }
   ],
   "source": [
    "pet1('Rambo')"
   ]
  },
  {
   "cell_type": "code",
   "execution_count": 33,
   "metadata": {},
   "outputs": [
    {
     "name": "stdout",
     "output_type": "stream",
     "text": [
      "I have an Dog.\n",
      "My Dog name is Raxy\n"
     ]
    }
   ],
   "source": [
    "pet1('Raxy','Dog') #Always keep the default argument at the end"
   ]
  },
  {
   "cell_type": "code",
   "execution_count": null,
   "metadata": {},
   "outputs": [],
   "source": []
  },
  {
   "cell_type": "code",
   "execution_count": null,
   "metadata": {},
   "outputs": [],
   "source": [
    "#Passing the arbitary no of arguments:\n",
    "    What if we are not sure how many and what kind of parameters it is going to pass\n",
    "    '*kwargs'"
   ]
  },
  {
   "cell_type": "code",
   "execution_count": 46,
   "metadata": {},
   "outputs": [],
   "source": [
    "def Engineering(*branches): #kwargs\n",
    "    \"\"\"print the list of branches to be include\"\"\"\n",
    "    print(branches)"
   ]
  },
  {
   "cell_type": "code",
   "execution_count": 47,
   "metadata": {},
   "outputs": [
    {
     "name": "stdout",
     "output_type": "stream",
     "text": [
      "('Mech', 'Civil', 'EEE', 'ECE')\n"
     ]
    }
   ],
   "source": [
    "Engineering('Mech','Civil','EEE','ECE')"
   ]
  },
  {
   "cell_type": "code",
   "execution_count": null,
   "metadata": {},
   "outputs": [],
   "source": [
    "#For loop in functions:"
   ]
  },
  {
   "cell_type": "code",
   "execution_count": 48,
   "metadata": {},
   "outputs": [],
   "source": [
    "def Engineering1(*branches):\n",
    "    \"\"\"print the list of branches to be include\"\"\"\n",
    "    for branch in branches:\n",
    "        print(f\"\\n {branch}\")"
   ]
  },
  {
   "cell_type": "code",
   "execution_count": 49,
   "metadata": {},
   "outputs": [
    {
     "name": "stdout",
     "output_type": "stream",
     "text": [
      "\n",
      " Mech\n",
      "\n",
      " Civil\n",
      "\n",
      " ECE\n",
      "\n",
      " EEE\n",
      "\n",
      " CSE\n",
      "\n",
      " IT\n"
     ]
    }
   ],
   "source": [
    "Engineering1('Mech','Civil','ECE','EEE','CSE','IT')"
   ]
  },
  {
   "cell_type": "code",
   "execution_count": null,
   "metadata": {},
   "outputs": [],
   "source": [
    "#Combination of "
   ]
  },
  {
   "cell_type": "code",
   "execution_count": 44,
   "metadata": {},
   "outputs": [],
   "source": [
    "def Engineering1(college,*branches):\n",
    "    \"\"\"print the list of branches to be include\"\"\"\n",
    "    print(f'The college name is:{college.title()}\\n')\n",
    "    for branch in branches:\n",
    "        print(f\" {branch} \\n\")"
   ]
  },
  {
   "cell_type": "code",
   "execution_count": 45,
   "metadata": {},
   "outputs": [
    {
     "name": "stdout",
     "output_type": "stream",
     "text": [
      "The college name is:Vishnu Institute Of Technology, Bhimavaram\n",
      "\n",
      " Mech \n",
      "\n",
      " Civil \n",
      "\n",
      " ECE \n",
      "\n",
      " EEE \n",
      "\n",
      " CSE \n",
      "\n",
      " IT \n",
      "\n"
     ]
    }
   ],
   "source": [
    "Engineering1('Vishnu Institute of Technology, Bhimavaram','Mech','Civil','ECE','EEE','CSE','IT')"
   ]
  },
  {
   "cell_type": "code",
   "execution_count": null,
   "metadata": {},
   "outputs": [],
   "source": []
  }
 ],
 "metadata": {
  "kernelspec": {
   "display_name": "Python 3",
   "language": "python",
   "name": "python3"
  },
  "language_info": {
   "codemirror_mode": {
    "name": "ipython",
    "version": 3
   },
   "file_extension": ".py",
   "mimetype": "text/x-python",
   "name": "python",
   "nbconvert_exporter": "python",
   "pygments_lexer": "ipython3",
   "version": "3.7.3"
  }
 },
 "nbformat": 4,
 "nbformat_minor": 2
}
